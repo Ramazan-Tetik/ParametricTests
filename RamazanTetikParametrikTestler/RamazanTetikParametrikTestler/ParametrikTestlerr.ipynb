{
 "cells": [
  {
   "cell_type": "markdown",
   "id": "3c1c86a7-b1f9-4562-8a2d-55cb9c5e99a1",
   "metadata": {},
   "source": [
    "# Parametrik Hipotez Testleri"
   ]
  },
  {
   "cell_type": "markdown",
   "id": "ecc5340c-863a-4e1e-901e-20f9771ee748",
   "metadata": {},
   "source": [
    "## 1)Öğrencinin t-testi\n",
    "- İki bağımsız numunenin ortalamalarının önemli ölçüde farklı olup olmadığını test eder."
   ]
  },
  {
   "cell_type": "markdown",
   "id": "206d3d46-2b7c-49e3-b042-f17da488f2de",
   "metadata": {},
   "source": [
    "**Soru 1 :** Bir biyolog, setosa ve versicolor türleri arasında sepal length (çanak uzunluğu) bakımından anlamlı bir fark olup olmadığını incelemek istemektedir. \n",
    "- (H₀): Setosa ve Versicolor türleri arasında sepal length (çanak uzunluğu) ortalamaları açısından anlamlı bir fark yoktur.\n",
    "- (H1): Setosa ve Versicolor türleri arasında sepal length (çanak uzunluğu) ortalamaları açısından anlamlı bir fark vardır."
   ]
  },
  {
   "cell_type": "code",
   "execution_count": 13,
   "id": "9a8db864-46ad-463f-80fe-2c249368699d",
   "metadata": {},
   "outputs": [],
   "source": [
    "import seaborn as sns\n",
    "from scipy import stats\n",
    "import matplotlib.pyplot as plt\n",
    "\n",
    "# Veri setini yükleme\n",
    "df = sns.load_dataset('iris')\n",
    "df.head()\n",
    "\n",
    "# İki bağımsız grubun seçilmesi\n",
    "setosa = df[df['species'] == 'setosa']['sepal_length']\n",
    "versicolor = df[df['species'] == 'versicolor']['sepal_length']"
   ]
  },
  {
   "cell_type": "code",
   "execution_count": 76,
   "id": "d2c67372-6aa3-4661-aa0e-7957cf204f32",
   "metadata": {},
   "outputs": [
    {
     "name": "stdout",
     "output_type": "stream",
     "text": [
      "stat=0.978, p=0.460\n",
      "H0 kabul edilir,veri normal dağılmıştır.\n"
     ]
    }
   ],
   "source": [
    "# Normalliği kontrol edelim\n",
    "from scipy.stats import shapiro\n",
    "w_stat,p_value1 = stats.shapiro(setosa)\n",
    "print('stat=%.3f, p=%.3f' % (w_stat, p_value1))\n",
    "#Sonucu yorumlama\n",
    "alpha = 0.05\n",
    "if p_value1>alpha:\n",
    "    print(\"H0 kabul edilir,veri normal dağılmıştır.\")\n",
    "else:\n",
    "    print(\"H0 reddedilir,veri normal dağılmamıştır.\")"
   ]
  },
  {
   "cell_type": "code",
   "execution_count": 78,
   "id": "2c4722bb-7e34-417f-aa5a-93631314acf9",
   "metadata": {},
   "outputs": [
    {
     "name": "stdout",
     "output_type": "stream",
     "text": [
      "stat=0.978, p=0.465\n",
      "H0 kabul edilir,veri normal dağılmıştır.\n"
     ]
    }
   ],
   "source": [
    "# Normalliği kontrol edelim\n",
    "from scipy.stats import shapiro\n",
    "w_stat,p_value1 = stats.shapiro(versicolor)\n",
    "print('stat=%.3f, p=%.3f' % (w_stat, p_value1))\n",
    "#Sonucu yorumlama\n",
    "alpha = 0.05\n",
    "if p_value1>alpha:\n",
    "    print(\"H0 kabul edilir,veri normal dağılmıştır.\")\n",
    "else:\n",
    "    print(\"H0 reddedilir,veri normal dağılmamıştır.\")"
   ]
  },
  {
   "cell_type": "code",
   "execution_count": 80,
   "id": "9e13005a-21da-45a8-8676-e3b94c1f6537",
   "metadata": {},
   "outputs": [
    {
     "name": "stdout",
     "output_type": "stream",
     "text": [
      "T-Statistic: -10.52098626754911\n",
      "P-Value: 8.985235037487079e-18\n",
      "Null Hipotez reddedilir; iki tür arasında anlamlı bir fark vardır.\n"
     ]
    }
   ],
   "source": [
    "# T-Testi uygulama\n",
    "t_stat, p_value = stats.ttest_ind(setosa, versicolor)\n",
    "\n",
    "# Sonuçları yazdırma\n",
    "print('T-Statistic:', t_stat)\n",
    "print('P-Value:', p_value)\n",
    "\n",
    "# Sonuçları yorumlama\n",
    "alpha = 0.05\n",
    "if p_value < alpha:\n",
    "    print(\"Null Hipotez reddedilir; iki tür arasında anlamlı bir fark vardır.\")\n",
    "else:\n",
    "    print(\"Null Hipotez reddedilemez; iki tür arasında anlamlı bir fark yoktur.\")\n",
    "\n"
   ]
  },
  {
   "cell_type": "markdown",
   "id": "40ae6a30-648f-42d9-a942-f44fea892b7e",
   "metadata": {},
   "source": [
    "## 2)Eşleştirilmiş öğrenci t-testi"
   ]
  },
  {
   "cell_type": "markdown",
   "id": "eb84b291-024e-403a-95a9-66f3be71f588",
   "metadata": {
    "scrolled": true
   },
   "source": [
    "**Soru 2:** Aşağıdaki tabloda, tedavi gören bir grup hastada(16 kişi), ilaç almadan önce ve 6 hafta sonrası için ölçülen toplam kolesterol değerleri verilmiştir. İlacın toplam kolesterolde azalmaya yol açacağı sonucuna varmamız için α=0.01 anlamlılık düzeyinde yeterli kanıt var mı? Bu durumda null ve alternatif hipotezler nelerdir?\n",
    "- H0: µ1 = µ2 (\"eşleştirilmiş popülasyon ortalamaları eşittir\")\n",
    "- H1: µ1 ≠ µ2 (\"eşleştirilmiş popülasyon ortalamaları eşit değildir\")"
   ]
  },
  {
   "cell_type": "code",
   "execution_count": 15,
   "id": "7be37b42-3efa-41cb-a26d-7d93277ddc54",
   "metadata": {},
   "outputs": [],
   "source": [
    "before = [195, 208, 254, 226, 290, 239, 216, 286, 243, 217, 245, 257, 199, 277, 249, 197]\n",
    "after = [125, 164, 152, 144, 212, 171, 164, 200, 190, 130, 170, 182, 153, 204, 174, 160]"
   ]
  },
  {
   "cell_type": "code",
   "execution_count": 19,
   "id": "55da9f0d-1e29-45ac-8394-14aba0bab10e",
   "metadata": {},
   "outputs": [],
   "source": [
    "import pandas as pd\n",
    "data = pd.DataFrame({'Before': before, 'After': after})\n",
    "\n",
    "# Calculate the differences\n",
    "data['Difference'] = data['Before'] - data['After']"
   ]
  },
  {
   "cell_type": "code",
   "execution_count": 22,
   "id": "9e898ceb-9159-49c0-b298-532a386f5d05",
   "metadata": {},
   "outputs": [],
   "source": [
    "# Perform the paired t-test\n",
    "t_stat, p_value = stats.ttest_rel(data['Before'], data['After'], alternative='greater')"
   ]
  },
  {
   "cell_type": "code",
   "execution_count": 25,
   "id": "a5a72664-6c56-47bd-be56-afca7ef03aaa",
   "metadata": {},
   "outputs": [
    {
     "name": "stdout",
     "output_type": "stream",
     "text": [
      "Test statistic: 15.4134\n",
      "P-value: 0.0000\n"
     ]
    }
   ],
   "source": [
    "# Print the results\n",
    "print(f'Test statistic: {t_stat:.4f}')\n",
    "print(f'P-value: {p_value:.4f}')"
   ]
  },
  {
   "cell_type": "code",
   "execution_count": 33,
   "id": "b7a740e4-ea8f-4310-a90a-7cbd6c0128be",
   "metadata": {},
   "outputs": [
    {
     "name": "stdout",
     "output_type": "stream",
     "text": [
      "H1 kabul edilir; eşleştirilmiş popülasyon ortalamaları eşit değildir.\n"
     ]
    }
   ],
   "source": [
    "# Sonuçları yorumlama\n",
    "alpha = 0.01\n",
    "if p_value > alpha:\n",
    "    print(\"H0 kabul edilir. µ1 = µ2 (eşleştirilmiş popülasyon ortalamaları eşittir\")\n",
    "else:\n",
    "    print(\"H1 kabul edilir; eşleştirilmiş popülasyon ortalamaları eşit değildir.\")"
   ]
  },
  {
   "cell_type": "markdown",
   "id": "75ed8da8-8c57-429d-963c-564ae53afc95",
   "metadata": {},
   "source": [
    "## 3)ANOVA Testi\n",
    "- Normallik varsayımı: Tüm gruplar normal dağılımlı\n",
    "kitlelerden çekilmiştir.\n",
    "- Homojenlik varsayımı: Grup varyansları homojen\n",
    "olmalıdır."
   ]
  },
  {
   "cell_type": "markdown",
   "id": "c8f93bb0-a0a8-4497-b710-cc10c5c39129",
   "metadata": {},
   "source": [
    "**Soru 3 :** Üç farklı bölgede oturan kişilerin boy ve kilo\n",
    "ölçümleri yapılarak vücut kitle indeksi (VKİ)\n",
    "değerleri hesaplanmıştır.\n",
    "Bu üç farklı bölgede yaşayan kişilerin VKİ\n",
    "ortalamaları arasında fark olup olmadığını\n",
    "α=0,05 yanılma düzeyinde araştırınız."
   ]
  },
  {
   "cell_type": "code",
   "execution_count": 46,
   "id": "3cc3f171-a108-430e-954d-080519bb3811",
   "metadata": {},
   "outputs": [],
   "source": [
    "import scipy.stats as stats\n",
    "\n",
    "# Verilen değerler\n",
    "x1 = 827.77\n",
    "x2 = 586.04\n",
    "x3 = 344.16\n",
    "x = 1757.97\n",
    "\n",
    "x1_sq = 47113.95\n",
    "x2_sq = 25427.90\n",
    "x3_sq = 10330.27\n",
    "x_sq = 82872.12\n",
    "\n",
    "mean1 = 48.69\n",
    "mean2 = 34.47\n",
    "mean3 = 20.24\n",
    "\n",
    "std1 = 20.63\n",
    "std2 = 18.07\n",
    "std3 = 14.50\n",
    "\n",
    "n1 = 17\n",
    "n2 = 17\n",
    "n3 = 17\n",
    "n = 51"
   ]
  },
  {
   "cell_type": "code",
   "execution_count": 56,
   "id": "13ec52ab-0119-404e-8a70-9c6e7db1edc5",
   "metadata": {},
   "outputs": [],
   "source": [
    "# Grup ortalamaları\n",
    "mean_total = (x1 + x2 + x3) / n\n",
    "# Grup içi (within-group) varyans\n",
    "ss_within = (n1 - 1) * std1**2 + (n2 - 1) * std2**2 + (n3 - 1) * std3**2\n",
    "df_within = n - 3\n",
    "# Grup arası (between-group) varyans\n",
    "ss_between = n1 * (mean1 - mean_total)**2 + n2 * (mean2 - mean_total)**2 + n3 * (mean3 - mean_total)**2\n",
    "df_between = 2\n",
    "# Varyanslar\n",
    "ms_between = ss_between / df_between\n",
    "ms_within = ss_within / df_within"
   ]
  },
  {
   "cell_type": "code",
   "execution_count": 60,
   "id": "916ae2f9-85ac-4281-b915-c0fba3298354",
   "metadata": {},
   "outputs": [
    {
     "name": "stdout",
     "output_type": "stream",
     "text": [
      "ANOVA F değeri: 10.723384818632466\n"
     ]
    }
   ],
   "source": [
    "# F-değeri\n",
    "fvalue = ms_between / ms_within\n",
    "print(\"ANOVA F değeri:\", fvalue)"
   ]
  },
  {
   "cell_type": "code",
   "execution_count": 63,
   "id": "f9fecadc-52e4-4eea-9a99-cafb1d7779cf",
   "metadata": {},
   "outputs": [
    {
     "name": "stdout",
     "output_type": "stream",
     "text": [
      "Kritik değer: 3.1907273359284987\n"
     ]
    }
   ],
   "source": [
    "# Kritik değer\n",
    "alpha = 0.05\n",
    "kritik_deger = stats.f.ppf(1 - alpha, df_between, df_within)\n",
    "print(\"Kritik değer:\", kritik_deger)"
   ]
  },
  {
   "cell_type": "code",
   "execution_count": 66,
   "id": "ff3f61fd-40e7-44ee-9540-9abac4f78d2e",
   "metadata": {},
   "outputs": [
    {
     "name": "stdout",
     "output_type": "stream",
     "text": [
      "Sonuç: Bölgeler arasında istatistiksel olarak anlamlı fark vardır (H0 reddedilir).\n"
     ]
    }
   ],
   "source": [
    "# Sonucu yorumlayalım\n",
    "if fvalue > kritik_deger:\n",
    "    print(\"Sonuç: Bölgeler arasında istatistiksel olarak anlamlı fark vardır (H0 reddedilir).\")\n",
    "else:\n",
    "    print(\"Sonuç: Bölgeler arasında istatistiksel olarak anlamlı fark yoktur (H0 kabul edilir).\")\n"
   ]
  },
  {
   "cell_type": "markdown",
   "id": "98d5c69b-39fd-4bce-a7a6-70de9490b6cb",
   "metadata": {},
   "source": [
    "- %95 güven düzeyinde en az bir bölgenin VKİ\n",
    "(Vücut kitle indeksi) ortalamasının\n",
    "diğerlerinden farklı olduğu söylenir."
   ]
  },
  {
   "cell_type": "markdown",
   "id": "e4992c3d-fce0-4c11-89a4-8aa2374e33c1",
   "metadata": {},
   "source": [
    "## 4)Tekrarlı Ölçümler ANOVA"
   ]
  },
  {
   "cell_type": "markdown",
   "id": "26179d32-e001-4aa6-870b-6e69842e2c00",
   "metadata": {},
   "source": [
    "- İstatistiksel bir yöntemdir ve aynı grubun üyelerinin 3 veya daha fazla farklı zamanlardaki ölçümleri arasındaki anlamlı farkları belirlemek için kullanılır."
   ]
  },
  {
   "cell_type": "markdown",
   "id": "d9fc5d24-39eb-499f-82c4-b99278c555e0",
   "metadata": {},
   "source": [
    "**Soru 1 :** Bir grup katılımcıya 3 çeşit (bira-şarap-su) içeceğin 3 farklıbetimlemesi(negatif-pozitif ve nötr) gösterildiği ve katılımcıların bu içeceklere karşı olan tutumlarının ölçüldüğü verimiz yanda verilmiştir.Toplamda aynı bireylere gösterilen 9 farklı durumu içeren 2 faktöre sahip olduğu için 2 faktör tekrarlı ölçümler ANOVA ile verimizi analiz edin."
   ]
  },
  {
   "cell_type": "code",
   "execution_count": 88,
   "id": "031cd48a-b84a-43f6-8839-8d737faf2e12",
   "metadata": {},
   "outputs": [],
   "source": [
    "import pandas as pd\n",
    "import pandas as pd\n",
    "import statsmodels.api as sm\n",
    "from statsmodels.formula.api import ols\n",
    "from statsmodels.stats.anova import AnovaRM"
   ]
  },
  {
   "cell_type": "code",
   "execution_count": 91,
   "id": "0fe9f484-6fff-4a66-8a65-e0419d4c4a9d",
   "metadata": {},
   "outputs": [],
   "source": [
    "data = {\n",
    "    'katılımcı': list(range(1, 21)),\n",
    "    'beerpos': [1, 43, 15, 40, 8, 17, 30, 34, 30, 26, 1, 7, 22, 30, 40, 15, 20, 9, 14, 15],\n",
    "    'beerneg': [6, 30, 15, 30, 12, 15, 21, 23, 27, 27, -19, -18, -8, -6, -6, -9, -17, -12, -11, -6],\n",
    "    'beerneut': [5, 8, 19, 19, 8, 15, 21, 26, 20, 27, -10, -6, -4, 3, 6, 7, 9, -5, 7, 13],\n",
    "    'winepos': [38, 20, 20, 28, 11, 17, 21, 27, 24, 23, 28, 26, 34, 32, 24, 29, 30, 24, 34, 23],\n",
    "    'wineeng': [-5, -12, -15, -4, 6, 11, 15, -7, 24, -15, -13, -16, -23, -22, -20, -18, -17, -14, -15, -15],\n",
    "    'wineneut': [4, 4, 6, 4, 6, 6, 2, 12, 10, -14, -13, -12, -14, -11, -10, -8, -6, -2, -1, -1],\n",
    "    'waterpos': [10, 9, 6, 2, 9, 27, 9, 12, 23, 21, 33, 29, 29, 29, 31, 30, 31, 33, 32, 29],\n",
    "    'waterneg': [-14, -10, -16, -10, -6, -5, -20, -12, -17, -6, -2, -17, -19, -11, -5, -7, -6, -4, 12, 10],\n",
    "    'waterneut': [-2, -13, 1, 2, -5, -5, -9, -4, 8, -9, -9, 6, 0, 4, -11, -7, -14, -11, 1, 10]\n",
    "}\n",
    "\n",
    "df = pd.DataFrame(data)"
   ]
  },
  {
   "cell_type": "code",
   "execution_count": 94,
   "id": "4cc7eeb0-e449-466d-b7b1-0ad3c783f706",
   "metadata": {},
   "outputs": [],
   "source": [
    "# Veriyi uzun forma dönüştürme\n",
    "df_long = pd.melt(df, id_vars=['katılımcı'], \n",
    "                  value_vars=['beerpos', 'beerneg', 'beerneut', 'winepos', 'wineeng', 'wineneut', 'waterpos', 'waterneg', 'waterneut'],\n",
    "                  var_name='içecek_durum', value_name='tutum')\n"
   ]
  },
  {
   "cell_type": "code",
   "execution_count": 98,
   "id": "cc44dc4c-a47d-4727-8da4-36f181a9cddc",
   "metadata": {},
   "outputs": [],
   "source": [
    "# 'katılımcı' ve 'içecek_durum' kategorik veri olarak belirleniyor\n",
    "df_long['katılımcı'] = df_long['katılımcı'].astype('category')\n",
    "df_long['içecek_durum'] = df_long['içecek_durum'].astype('category')"
   ]
  },
  {
   "cell_type": "code",
   "execution_count": 101,
   "id": "65f7943c-5fa1-4b05-808b-f155d33b4962",
   "metadata": {},
   "outputs": [],
   "source": [
    "# 2-faktör Tekrarlı Ölçümler ANOVA'yı uygulama\n",
    "aovrm2 = AnovaRM(df_long, 'tutum', 'katılımcı', within=['içecek_durum'])\n",
    "res2 = aovrm2.fit()"
   ]
  },
  {
   "cell_type": "code",
   "execution_count": 104,
   "id": "711b8862-a919-48f9-8b94-d4f48135bbb8",
   "metadata": {},
   "outputs": [
    {
     "name": "stdout",
     "output_type": "stream",
     "text": [
      "                   Anova\n",
      "===========================================\n",
      "             F Value Num DF  Den DF  Pr > F\n",
      "-------------------------------------------\n",
      "içecek_durum 30.8348 8.0000 152.0000 0.0000\n",
      "===========================================\n",
      "\n"
     ]
    }
   ],
   "source": [
    "# Sonuçların özeti\n",
    "print(res2.summary())"
   ]
  },
  {
   "cell_type": "code",
   "execution_count": 107,
   "id": "2358f668-a388-4d2d-b1ae-6e1d43fa6260",
   "metadata": {},
   "outputs": [
    {
     "name": "stdout",
     "output_type": "stream",
     "text": [
      "F değeri: 30.83479156073963\n",
      "p değeri: 2.856564207116835e-28\n",
      "Null hipotezi reddediyoruz, içecek durumu arasında anlamlı bir fark var.\n"
     ]
    }
   ],
   "source": [
    "# F ve p-değerlerini elde etme\n",
    "f_value = res2.anova_table['F Value'].iloc[0]\n",
    "p_value = res2.anova_table['Pr > F'].iloc[0]\n",
    "\n",
    "# Anlamlılık düzeyi\n",
    "alpha = 0.05\n",
    "\n",
    "# Karar\n",
    "if p_value < alpha:\n",
    "    decision = \"Null hipotezi reddediyoruz, içecek durumu arasında anlamlı bir fark var.\"\n",
    "else:\n",
    "    decision = \"Null hipotezi reddedemiyoruz, içecek durumu arasında anlamlı bir fark yok.\"\n",
    "\n",
    "print(f\"F değeri: {f_value}\")\n",
    "print(f\"p değeri: {p_value}\")\n",
    "print(decision)"
   ]
  },
  {
   "cell_type": "code",
   "execution_count": null,
   "id": "2857de0c-1aa5-4289-bdda-3bbcfd2b9b8f",
   "metadata": {},
   "outputs": [],
   "source": []
  },
  {
   "cell_type": "code",
   "execution_count": null,
   "id": "3dbcefa5-bb26-4713-9c8e-0be8d6805d7d",
   "metadata": {},
   "outputs": [],
   "source": []
  },
  {
   "cell_type": "code",
   "execution_count": null,
   "id": "86e099bb-66a4-4fd7-9831-cac6455fab08",
   "metadata": {},
   "outputs": [],
   "source": []
  }
 ],
 "metadata": {
  "kernelspec": {
   "display_name": "Python 3 (ipykernel)",
   "language": "python",
   "name": "python3"
  },
  "language_info": {
   "codemirror_mode": {
    "name": "ipython",
    "version": 3
   },
   "file_extension": ".py",
   "mimetype": "text/x-python",
   "name": "python",
   "nbconvert_exporter": "python",
   "pygments_lexer": "ipython3",
   "version": "3.12.4"
  }
 },
 "nbformat": 4,
 "nbformat_minor": 5
}
